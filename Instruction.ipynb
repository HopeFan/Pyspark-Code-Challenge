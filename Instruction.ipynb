{
 "cells": [
  {
   "cell_type": "markdown",
   "metadata": {},
   "source": []
  },
  {
   "attachments": {},
   "cell_type": "markdown",
   "metadata": {},
   "source": [
    "![Drag Racing](Qsic.jpg)\n",
    "\n",
    "\n",
    "## Problem description\n",
    "\n",
    "Given is a TSV file (sales_data.tsv) with dummy sales data. Each row contains a transaction\n",
    "record that describes how many units of a product have been sold at a specific store at a specific\n",
    "time. See excerpt below:"
   ]
  },
  {
   "attachments": {},
   "cell_type": "markdown",
   "metadata": {},
   "source": [
    "|product_id|store_id|product_name |units  |transaction_id|price|timestamp                 |\n",
    "-----------|--------|-------------|-------|--------------|-----|--------------------------|\n",
    "|   0      |   1    |coffee large |  3    |      1       |1.0  |2021-12-01 17:48:41.569057|\n",
    "|   0      |   2    |coffee large |  1    |      3       |1.0  |2021-12-01 21:42:11.569057|\n",
    "|   3      |   1    |doughnut cold|  1    |      4       |1.0  |2021-12-01 23:10:41.569057|\n",
    "|   0      |   1    |coffee large |  1    |      5       |1.0  |2021-12-01 23:41:46.569057|\n",
    "|   4      |   2    |snickers 37g |  1    |      7       |3.1  |2021-12-02 02:14:41.569057|"
   ]
  },
  {
   "attachments": {},
   "cell_type": "markdown",
   "metadata": {},
   "source": [
    "**sales profile** : is computed by summing up the units sold for each product in each store and\n",
    "dividing by the total sum of units sold per store. These normalised unit sales must sum up to one\n",
    "(per store). This allows the comparison of stores independent of their total sales. For instance, the\n",
    "example above reveals that store 1 sells relatively more coffee than store 3, while store 3 sells\n",
    "more doughnuts."
   ]
  },
  {
   "attachments": {},
   "cell_type": "markdown",
   "metadata": {},
   "source": [
    "## Notes\n",
    "* Assume that the data file (sales_data.tsv) is too large to be loaded into memory at once\n",
    "* However, the sales profiles for the selected stores can be assumed to fit into memory.\n",
    "* There are invalid transactions with negative units that need to be filtered out\n",
    "* There are different “spellings” for the same product that need to be unified, e.g. “coffee-large”,\n",
    "“coffee_large” and “coffee large”."
   ]
  },
  {
   "attachments": {},
   "cell_type": "markdown",
   "metadata": {},
   "source": [
    "## Tasks\n",
    "1.  Write a **PySpark pipeline** that takes a set of store ids as input, loads the sales_data.tsv file,\n",
    "and writes the sales profiles in **JSON format** to a file. The code must reproduce the sales profiles\n",
    "shown above for store ids **1** and **3**.\n",
    "2.  Write **unit tests** using **pytest** to test the functions of the pipeline.\n",
    "3.  Run **pytest-cov** to ensure **100% test coverage**.\n",
    "\n",
    "**Recommendation**: use Pandas to compute the sales profiles and write the JSON output, once the\n",
    "data has been aggregated via PySpark."
   ]
  },
  {
   "attachments": {},
   "cell_type": "markdown",
   "metadata": {},
   "source": [
    "## Solution description\n",
    "\n",
    "1. `sales_pipeline.py` is created with all pipeline functions.\n",
    "  - **Extract**:\n",
    "      - `Load_sales_data()`\n",
    "  - **Transform**\n",
    "      - `filter_valid_transactions()`\n",
    "      - `unify_product_names()`\n",
    "      - `compute_sales_profiles()`\n",
    "  - **Load**\n",
    "      - `write_sales_profiles_to_json()`\n",
    "\n",
    "2. `tests_pipeline.py' is created to test all functions of the  `sales_pipeline.py.`\n",
    "3. **htmlcov** folder has `sales_pipeline_py.html`s that shows the **100% test coverage**.\n",
    "4. `main.py` is created to run the `sales_pipeline.py`"
   ]
  },
  {
   "attachments": {},
   "cell_type": "markdown",
   "metadata": {},
   "source": [
    "## Libraries\n",
    "\n",
    "**Note**: Please ensure you have all the required libraries installed.\n",
    "If not, please run this \n",
    "`!pip install -r requirements.txt`\n",
    "\n",
    "**Note**: pelase make sure you have the same versions"
   ]
  },
  {
   "attachments": {},
   "cell_type": "markdown",
   "metadata": {},
   "source": [
    "# Task 1\n",
    "### Run Data pipeline : python main.py"
   ]
  },
  {
   "attachments": {},
   "cell_type": "markdown",
   "metadata": {},
   "source": [
    "# Task 2 \n",
    "### Run the tests : !pytest tests_pipeline.py'"
   ]
  },
  {
   "attachments": {},
   "cell_type": "markdown",
   "metadata": {},
   "source": [
    "# Task 3 \n",
    "### Run pytest-cov :  pytest --cov=sales_pipeline --cov-report=html tests_pipeline.py"
   ]
  },
  {
   "attachments": {},
   "cell_type": "markdown",
   "metadata": {},
   "source": [
    "Thank you so much and thank you again for giving me this opportunity and considering my application \n",
    "\n",
    "Looking forward to speak with you very soon :) \n",
    "\n",
    "\n",
    "please let me know if you have any questions\n",
    "\n",
    "Erfan"
   ]
  }
 ],
 "metadata": {
  "kernelspec": {
   "display_name": "Python 3.11.1 64-bit",
   "language": "python",
   "name": "python311164bitff7243eb989247dab0bad334a1b1dfcb"
  },
  "language_info": {
   "codemirror_mode": {
    "name": "ipython",
    "version": 3
   },
   "file_extension": ".py",
   "mimetype": "text/x-python",
   "name": "python",
   "nbconvert_exporter": "python",
   "pygments_lexer": "ipython3",
   "version": "3.11.1"
  },
  "orig_nbformat": 4
 },
 "nbformat": 4,
 "nbformat_minor": 2
}
